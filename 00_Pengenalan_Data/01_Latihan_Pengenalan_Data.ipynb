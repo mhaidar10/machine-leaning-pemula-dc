{
  "nbformat": 4,
  "nbformat_minor": 0,
  "metadata": {
    "colab": {
      "provenance": [],
      "authorship_tag": "ABX9TyPzmchCkvFL1rd7YglntfJZ",
      "include_colab_link": true
    },
    "kernelspec": {
      "name": "python3",
      "display_name": "Python 3"
    },
    "language_info": {
      "name": "python"
    }
  },
  "cells": [
    {
      "cell_type": "markdown",
      "metadata": {
        "id": "view-in-github",
        "colab_type": "text"
      },
      "source": [
        "<a href=\"https://colab.research.google.com/github/mhaidar10/machine-leaning-pemula-dc/blob/main/00_Pengenalan_Data/01_Latihan_Pengenalan_Data.ipynb\" target=\"_parent\"><img src=\"https://colab.research.google.com/assets/colab-badge.svg\" alt=\"Open In Colab\"/></a>"
      ]
    },
    {
      "cell_type": "markdown",
      "source": [
        "library import"
      ],
      "metadata": {
        "id": "Pm1YXHryu84P"
      }
    },
    {
      "cell_type": "code",
      "execution_count": 1,
      "metadata": {
        "id": "JCv-8KcguhU-"
      },
      "outputs": [],
      "source": [
        "import sklearn\n",
        "from sklearn import datasets"
      ]
    },
    {
      "cell_type": "markdown",
      "source": [
        "dataset disediakan oleh sklearn"
      ],
      "metadata": {
        "id": "_TUjIcePvDil"
      }
    },
    {
      "cell_type": "code",
      "source": [
        "# load iris dataset\n",
        "iris = datasets.load_iris()"
      ],
      "metadata": {
        "id": "A5wyY9h3u_hy"
      },
      "execution_count": 2,
      "outputs": []
    },
    {
      "cell_type": "code",
      "source": [
        "# pisahkan atribut dan label pada iris dataset\n",
        "x=iris.data\n",
        "y=iris.target"
      ],
      "metadata": {
        "id": "Q-5LbrQCvKZd"
      },
      "execution_count": 3,
      "outputs": []
    },
    {
      "cell_type": "markdown",
      "source": [
        "Dataset iris memiliki jumlah 150 sampel"
      ],
      "metadata": {
        "id": "_YcI0tfdwCAX"
      }
    },
    {
      "cell_type": "markdown",
      "source": [
        "memisahkan train 80% test 20%"
      ],
      "metadata": {
        "id": "n3AEbB5_vkvC"
      }
    },
    {
      "cell_type": "markdown",
      "source": [
        "train 80% dari 150 : 120 sampel\n",
        "\n",
        "test 20% dari 150 : 30 sampel\n",
        "\n"
      ],
      "metadata": {
        "id": "8aA20dyZwDkD"
      }
    },
    {
      "cell_type": "code",
      "source": [
        "from sklearn.model_selection import train_test_split\n",
        "\n",
        "# membagi dataset menjadi training dan testing\n",
        "x_train, x_test, y_train, y_test = train_test_split(x, y, test_size=0.2, random_state=1)"
      ],
      "metadata": {
        "id": "a3lp2rfvvOSj"
      },
      "execution_count": 4,
      "outputs": []
    },
    {
      "cell_type": "markdown",
      "source": [
        "bukti sampel x test"
      ],
      "metadata": {
        "id": "jT6QgZpawUQg"
      }
    },
    {
      "cell_type": "code",
      "source": [
        "# menghitung panjang/jumlah data pada x_test\n",
        "len(x_test)"
      ],
      "metadata": {
        "colab": {
          "base_uri": "https://localhost:8080/"
        },
        "id": "R3DZK8Grvbvw",
        "outputId": "7f64248e-842b-4e38-ef44-207c93fb3006"
      },
      "execution_count": 5,
      "outputs": [
        {
          "output_type": "execute_result",
          "data": {
            "text/plain": [
              "30"
            ]
          },
          "metadata": {},
          "execution_count": 5
        }
      ]
    }
  ]
}
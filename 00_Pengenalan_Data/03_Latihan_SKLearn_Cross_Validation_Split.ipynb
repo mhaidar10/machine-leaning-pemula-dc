{
  "nbformat": 4,
  "nbformat_minor": 0,
  "metadata": {
    "colab": {
      "provenance": [],
      "authorship_tag": "ABX9TyMgYswyPkflemvnCMoko1e+",
      "include_colab_link": true
    },
    "kernelspec": {
      "name": "python3",
      "display_name": "Python 3"
    },
    "language_info": {
      "name": "python"
    }
  },
  "cells": [
    {
      "cell_type": "markdown",
      "metadata": {
        "id": "view-in-github",
        "colab_type": "text"
      },
      "source": [
        "<a href=\"https://colab.research.google.com/github/mhaidar10/machine-leaning-pemula-dc/blob/main/00_Pengenalan_Data/03_Latihan_SKLearn_Cross_Validation_Split.ipynb\" target=\"_parent\"><img src=\"https://colab.research.google.com/assets/colab-badge.svg\" alt=\"Open In Colab\"/></a>"
      ]
    },
    {
      "cell_type": "markdown",
      "source": [
        "import library"
      ],
      "metadata": {
        "id": "029vlflnz190"
      }
    },
    {
      "cell_type": "code",
      "execution_count": 1,
      "metadata": {
        "id": "W_ivuwprzXTO"
      },
      "outputs": [],
      "source": [
        "import sklearn\n",
        "from sklearn import datasets\n",
        "\n",
        "# Load iris dataset\n",
        "iris = datasets.load_iris()"
      ]
    },
    {
      "cell_type": "code",
      "source": [
        "# mendefinisikan atribut dan label pada dataset\n",
        "x=iris.data\n",
        "y=iris.target"
      ],
      "metadata": {
        "id": "Azu3gh6Wz34U"
      },
      "execution_count": 2,
      "outputs": []
    },
    {
      "cell_type": "markdown",
      "source": [
        "Model machine learning sering disebut sebagai classifier"
      ],
      "metadata": {
        "id": "vAQ7pSWg0Q0E"
      }
    },
    {
      "cell_type": "markdown",
      "source": [
        "variabel clf adalah singkatan dari classifier"
      ],
      "metadata": {
        "id": "Eg-mskSM0U76"
      }
    },
    {
      "cell_type": "code",
      "source": [
        "from sklearn import tree\n",
        "\n",
        "# membuat model dengan decision tree classifier\n",
        "clf = tree.DecisionTreeClassifier()"
      ],
      "metadata": {
        "id": "9ZQOwxi8z6a5"
      },
      "execution_count": 4,
      "outputs": []
    },
    {
      "cell_type": "code",
      "source": [
        "from sklearn.model_selection import cross_val_score\n",
        "\n",
        "# mengevaluasi performa model dengan cross_val_score\n",
        "scores = cross_val_score(clf, x, y, cv=5)"
      ],
      "metadata": {
        "id": "JfQgAhS-1SC3"
      },
      "execution_count": 16,
      "outputs": []
    },
    {
      "cell_type": "code",
      "source": [
        "scores"
      ],
      "metadata": {
        "colab": {
          "base_uri": "https://localhost:8080/"
        },
        "id": "tMyzCE6z2KON",
        "outputId": "dcea1659-14f0-4115-fbce-6a8da656bce8"
      },
      "execution_count": 17,
      "outputs": [
        {
          "output_type": "execute_result",
          "data": {
            "text/plain": [
              "array([0.96666667, 0.96666667, 0.9       , 1.        , 1.        ])"
            ]
          },
          "metadata": {},
          "execution_count": 17
        }
      ]
    }
  ]
}
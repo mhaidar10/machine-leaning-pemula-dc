{
  "nbformat": 4,
  "nbformat_minor": 0,
  "metadata": {
    "colab": {
      "provenance": [],
      "gpuType": "T4",
      "include_colab_link": true
    },
    "kernelspec": {
      "name": "python3",
      "display_name": "Python 3"
    }
  },
  "cells": [
    {
      "cell_type": "markdown",
      "metadata": {
        "id": "view-in-github",
        "colab_type": "text"
      },
      "source": [
        "<a href=\"https://colab.research.google.com/github/mhaidar10/machine-leaning-pemula-dc/blob/main/00_Pengenalan_Data/00_Pengenalan_Data.ipynb\" target=\"_parent\"><img src=\"https://colab.research.google.com/assets/colab-badge.svg\" alt=\"Open In Colab\"/></a>"
      ]
    },
    {
      "cell_type": "code",
      "metadata": {
        "id": "YkCEGDEHYymN",
        "outputId": "b0c18e0e-828a-470c-b6a5-23ef772b8107",
        "colab": {
          "base_uri": "https://localhost:8080/"
        }
      },
      "source": [
        "import os\n",
        "os.listdir('sample_data')"
      ],
      "execution_count": 29,
      "outputs": [
        {
          "output_type": "execute_result",
          "data": {
            "text/plain": [
              "['README.md',\n",
              " 'anscombe.json',\n",
              " 'california_housing_train.csv',\n",
              " 'california_housing_test.csv',\n",
              " 'mnist_test.csv',\n",
              " 'mnist_train_small.csv']"
            ]
          },
          "metadata": {},
          "execution_count": 29
        }
      ]
    },
    {
      "cell_type": "code",
      "metadata": {
        "id": "XW6XJR5PZNjE",
        "outputId": "bec10a31-3bd8-47c1-ec73-d9d6c04a20b9",
        "colab": {
          "base_uri": "https://localhost:8080/",
          "height": 206
        }
      },
      "source": [
        "import pandas as pd\n",
        "df = pd.read_csv('sample_data/california_housing_train.csv')\n",
        "df.head()"
      ],
      "execution_count": 23,
      "outputs": [
        {
          "output_type": "execute_result",
          "data": {
            "text/plain": [
              "   longitude  latitude  housing_median_age  total_rooms  total_bedrooms  \\\n",
              "0    -114.31     34.19                15.0       5612.0          1283.0   \n",
              "1    -114.47     34.40                19.0       7650.0          1901.0   \n",
              "2    -114.56     33.69                17.0        720.0           174.0   \n",
              "3    -114.57     33.64                14.0       1501.0           337.0   \n",
              "4    -114.57     33.57                20.0       1454.0           326.0   \n",
              "\n",
              "   population  households  median_income  median_house_value  \n",
              "0      1015.0       472.0         1.4936             66900.0  \n",
              "1      1129.0       463.0         1.8200             80100.0  \n",
              "2       333.0       117.0         1.6509             85700.0  \n",
              "3       515.0       226.0         3.1917             73400.0  \n",
              "4       624.0       262.0         1.9250             65500.0  "
            ],
            "text/html": [
              "\n",
              "  <div id=\"df-4ecca8c8-d3db-4c54-8852-e6e6607c454f\" class=\"colab-df-container\">\n",
              "    <div>\n",
              "<style scoped>\n",
              "    .dataframe tbody tr th:only-of-type {\n",
              "        vertical-align: middle;\n",
              "    }\n",
              "\n",
              "    .dataframe tbody tr th {\n",
              "        vertical-align: top;\n",
              "    }\n",
              "\n",
              "    .dataframe thead th {\n",
              "        text-align: right;\n",
              "    }\n",
              "</style>\n",
              "<table border=\"1\" class=\"dataframe\">\n",
              "  <thead>\n",
              "    <tr style=\"text-align: right;\">\n",
              "      <th></th>\n",
              "      <th>longitude</th>\n",
              "      <th>latitude</th>\n",
              "      <th>housing_median_age</th>\n",
              "      <th>total_rooms</th>\n",
              "      <th>total_bedrooms</th>\n",
              "      <th>population</th>\n",
              "      <th>households</th>\n",
              "      <th>median_income</th>\n",
              "      <th>median_house_value</th>\n",
              "    </tr>\n",
              "  </thead>\n",
              "  <tbody>\n",
              "    <tr>\n",
              "      <th>0</th>\n",
              "      <td>-114.31</td>\n",
              "      <td>34.19</td>\n",
              "      <td>15.0</td>\n",
              "      <td>5612.0</td>\n",
              "      <td>1283.0</td>\n",
              "      <td>1015.0</td>\n",
              "      <td>472.0</td>\n",
              "      <td>1.4936</td>\n",
              "      <td>66900.0</td>\n",
              "    </tr>\n",
              "    <tr>\n",
              "      <th>1</th>\n",
              "      <td>-114.47</td>\n",
              "      <td>34.40</td>\n",
              "      <td>19.0</td>\n",
              "      <td>7650.0</td>\n",
              "      <td>1901.0</td>\n",
              "      <td>1129.0</td>\n",
              "      <td>463.0</td>\n",
              "      <td>1.8200</td>\n",
              "      <td>80100.0</td>\n",
              "    </tr>\n",
              "    <tr>\n",
              "      <th>2</th>\n",
              "      <td>-114.56</td>\n",
              "      <td>33.69</td>\n",
              "      <td>17.0</td>\n",
              "      <td>720.0</td>\n",
              "      <td>174.0</td>\n",
              "      <td>333.0</td>\n",
              "      <td>117.0</td>\n",
              "      <td>1.6509</td>\n",
              "      <td>85700.0</td>\n",
              "    </tr>\n",
              "    <tr>\n",
              "      <th>3</th>\n",
              "      <td>-114.57</td>\n",
              "      <td>33.64</td>\n",
              "      <td>14.0</td>\n",
              "      <td>1501.0</td>\n",
              "      <td>337.0</td>\n",
              "      <td>515.0</td>\n",
              "      <td>226.0</td>\n",
              "      <td>3.1917</td>\n",
              "      <td>73400.0</td>\n",
              "    </tr>\n",
              "    <tr>\n",
              "      <th>4</th>\n",
              "      <td>-114.57</td>\n",
              "      <td>33.57</td>\n",
              "      <td>20.0</td>\n",
              "      <td>1454.0</td>\n",
              "      <td>326.0</td>\n",
              "      <td>624.0</td>\n",
              "      <td>262.0</td>\n",
              "      <td>1.9250</td>\n",
              "      <td>65500.0</td>\n",
              "    </tr>\n",
              "  </tbody>\n",
              "</table>\n",
              "</div>\n",
              "    <div class=\"colab-df-buttons\">\n",
              "\n",
              "  <div class=\"colab-df-container\">\n",
              "    <button class=\"colab-df-convert\" onclick=\"convertToInteractive('df-4ecca8c8-d3db-4c54-8852-e6e6607c454f')\"\n",
              "            title=\"Convert this dataframe to an interactive table.\"\n",
              "            style=\"display:none;\">\n",
              "\n",
              "  <svg xmlns=\"http://www.w3.org/2000/svg\" height=\"24px\" viewBox=\"0 -960 960 960\">\n",
              "    <path d=\"M120-120v-720h720v720H120Zm60-500h600v-160H180v160Zm220 220h160v-160H400v160Zm0 220h160v-160H400v160ZM180-400h160v-160H180v160Zm440 0h160v-160H620v160ZM180-180h160v-160H180v160Zm440 0h160v-160H620v160Z\"/>\n",
              "  </svg>\n",
              "    </button>\n",
              "\n",
              "  <style>\n",
              "    .colab-df-container {\n",
              "      display:flex;\n",
              "      gap: 12px;\n",
              "    }\n",
              "\n",
              "    .colab-df-convert {\n",
              "      background-color: #E8F0FE;\n",
              "      border: none;\n",
              "      border-radius: 50%;\n",
              "      cursor: pointer;\n",
              "      display: none;\n",
              "      fill: #1967D2;\n",
              "      height: 32px;\n",
              "      padding: 0 0 0 0;\n",
              "      width: 32px;\n",
              "    }\n",
              "\n",
              "    .colab-df-convert:hover {\n",
              "      background-color: #E2EBFA;\n",
              "      box-shadow: 0px 1px 2px rgba(60, 64, 67, 0.3), 0px 1px 3px 1px rgba(60, 64, 67, 0.15);\n",
              "      fill: #174EA6;\n",
              "    }\n",
              "\n",
              "    .colab-df-buttons div {\n",
              "      margin-bottom: 4px;\n",
              "    }\n",
              "\n",
              "    [theme=dark] .colab-df-convert {\n",
              "      background-color: #3B4455;\n",
              "      fill: #D2E3FC;\n",
              "    }\n",
              "\n",
              "    [theme=dark] .colab-df-convert:hover {\n",
              "      background-color: #434B5C;\n",
              "      box-shadow: 0px 1px 3px 1px rgba(0, 0, 0, 0.15);\n",
              "      filter: drop-shadow(0px 1px 2px rgba(0, 0, 0, 0.3));\n",
              "      fill: #FFFFFF;\n",
              "    }\n",
              "  </style>\n",
              "\n",
              "    <script>\n",
              "      const buttonEl =\n",
              "        document.querySelector('#df-4ecca8c8-d3db-4c54-8852-e6e6607c454f button.colab-df-convert');\n",
              "      buttonEl.style.display =\n",
              "        google.colab.kernel.accessAllowed ? 'block' : 'none';\n",
              "\n",
              "      async function convertToInteractive(key) {\n",
              "        const element = document.querySelector('#df-4ecca8c8-d3db-4c54-8852-e6e6607c454f');\n",
              "        const dataTable =\n",
              "          await google.colab.kernel.invokeFunction('convertToInteractive',\n",
              "                                                    [key], {});\n",
              "        if (!dataTable) return;\n",
              "\n",
              "        const docLinkHtml = 'Like what you see? Visit the ' +\n",
              "          '<a target=\"_blank\" href=https://colab.research.google.com/notebooks/data_table.ipynb>data table notebook</a>'\n",
              "          + ' to learn more about interactive tables.';\n",
              "        element.innerHTML = '';\n",
              "        dataTable['output_type'] = 'display_data';\n",
              "        await google.colab.output.renderOutput(dataTable, element);\n",
              "        const docLink = document.createElement('div');\n",
              "        docLink.innerHTML = docLinkHtml;\n",
              "        element.appendChild(docLink);\n",
              "      }\n",
              "    </script>\n",
              "  </div>\n",
              "\n",
              "\n",
              "<div id=\"df-a7af043a-dc24-4085-8e1d-2b9f8a5d83c2\">\n",
              "  <button class=\"colab-df-quickchart\" onclick=\"quickchart('df-a7af043a-dc24-4085-8e1d-2b9f8a5d83c2')\"\n",
              "            title=\"Suggest charts.\"\n",
              "            style=\"display:none;\">\n",
              "\n",
              "<svg xmlns=\"http://www.w3.org/2000/svg\" height=\"24px\"viewBox=\"0 0 24 24\"\n",
              "     width=\"24px\">\n",
              "    <g>\n",
              "        <path d=\"M19 3H5c-1.1 0-2 .9-2 2v14c0 1.1.9 2 2 2h14c1.1 0 2-.9 2-2V5c0-1.1-.9-2-2-2zM9 17H7v-7h2v7zm4 0h-2V7h2v10zm4 0h-2v-4h2v4z\"/>\n",
              "    </g>\n",
              "</svg>\n",
              "  </button>\n",
              "\n",
              "<style>\n",
              "  .colab-df-quickchart {\n",
              "      --bg-color: #E8F0FE;\n",
              "      --fill-color: #1967D2;\n",
              "      --hover-bg-color: #E2EBFA;\n",
              "      --hover-fill-color: #174EA6;\n",
              "      --disabled-fill-color: #AAA;\n",
              "      --disabled-bg-color: #DDD;\n",
              "  }\n",
              "\n",
              "  [theme=dark] .colab-df-quickchart {\n",
              "      --bg-color: #3B4455;\n",
              "      --fill-color: #D2E3FC;\n",
              "      --hover-bg-color: #434B5C;\n",
              "      --hover-fill-color: #FFFFFF;\n",
              "      --disabled-bg-color: #3B4455;\n",
              "      --disabled-fill-color: #666;\n",
              "  }\n",
              "\n",
              "  .colab-df-quickchart {\n",
              "    background-color: var(--bg-color);\n",
              "    border: none;\n",
              "    border-radius: 50%;\n",
              "    cursor: pointer;\n",
              "    display: none;\n",
              "    fill: var(--fill-color);\n",
              "    height: 32px;\n",
              "    padding: 0;\n",
              "    width: 32px;\n",
              "  }\n",
              "\n",
              "  .colab-df-quickchart:hover {\n",
              "    background-color: var(--hover-bg-color);\n",
              "    box-shadow: 0 1px 2px rgba(60, 64, 67, 0.3), 0 1px 3px 1px rgba(60, 64, 67, 0.15);\n",
              "    fill: var(--button-hover-fill-color);\n",
              "  }\n",
              "\n",
              "  .colab-df-quickchart-complete:disabled,\n",
              "  .colab-df-quickchart-complete:disabled:hover {\n",
              "    background-color: var(--disabled-bg-color);\n",
              "    fill: var(--disabled-fill-color);\n",
              "    box-shadow: none;\n",
              "  }\n",
              "\n",
              "  .colab-df-spinner {\n",
              "    border: 2px solid var(--fill-color);\n",
              "    border-color: transparent;\n",
              "    border-bottom-color: var(--fill-color);\n",
              "    animation:\n",
              "      spin 1s steps(1) infinite;\n",
              "  }\n",
              "\n",
              "  @keyframes spin {\n",
              "    0% {\n",
              "      border-color: transparent;\n",
              "      border-bottom-color: var(--fill-color);\n",
              "      border-left-color: var(--fill-color);\n",
              "    }\n",
              "    20% {\n",
              "      border-color: transparent;\n",
              "      border-left-color: var(--fill-color);\n",
              "      border-top-color: var(--fill-color);\n",
              "    }\n",
              "    30% {\n",
              "      border-color: transparent;\n",
              "      border-left-color: var(--fill-color);\n",
              "      border-top-color: var(--fill-color);\n",
              "      border-right-color: var(--fill-color);\n",
              "    }\n",
              "    40% {\n",
              "      border-color: transparent;\n",
              "      border-right-color: var(--fill-color);\n",
              "      border-top-color: var(--fill-color);\n",
              "    }\n",
              "    60% {\n",
              "      border-color: transparent;\n",
              "      border-right-color: var(--fill-color);\n",
              "    }\n",
              "    80% {\n",
              "      border-color: transparent;\n",
              "      border-right-color: var(--fill-color);\n",
              "      border-bottom-color: var(--fill-color);\n",
              "    }\n",
              "    90% {\n",
              "      border-color: transparent;\n",
              "      border-bottom-color: var(--fill-color);\n",
              "    }\n",
              "  }\n",
              "</style>\n",
              "\n",
              "  <script>\n",
              "    async function quickchart(key) {\n",
              "      const quickchartButtonEl =\n",
              "        document.querySelector('#' + key + ' button');\n",
              "      quickchartButtonEl.disabled = true;  // To prevent multiple clicks.\n",
              "      quickchartButtonEl.classList.add('colab-df-spinner');\n",
              "      try {\n",
              "        const charts = await google.colab.kernel.invokeFunction(\n",
              "            'suggestCharts', [key], {});\n",
              "      } catch (error) {\n",
              "        console.error('Error during call to suggestCharts:', error);\n",
              "      }\n",
              "      quickchartButtonEl.classList.remove('colab-df-spinner');\n",
              "      quickchartButtonEl.classList.add('colab-df-quickchart-complete');\n",
              "    }\n",
              "    (() => {\n",
              "      let quickchartButtonEl =\n",
              "        document.querySelector('#df-a7af043a-dc24-4085-8e1d-2b9f8a5d83c2 button');\n",
              "      quickchartButtonEl.style.display =\n",
              "        google.colab.kernel.accessAllowed ? 'block' : 'none';\n",
              "    })();\n",
              "  </script>\n",
              "</div>\n",
              "    </div>\n",
              "  </div>\n"
            ]
          },
          "metadata": {},
          "execution_count": 23
        }
      ]
    },
    {
      "cell_type": "markdown",
      "source": [
        "## **Data Preparation dengan Normalization**"
      ],
      "metadata": {
        "id": "Ec4sFGlRdLK5"
      }
    },
    {
      "cell_type": "markdown",
      "source": [
        "### min-max scaling"
      ],
      "metadata": {
        "id": "Y6Ou8aLjeDvt"
      }
    },
    {
      "cell_type": "markdown",
      "source": [
        "min-max scaling di mana nilai-nilai dipetakan ke dalam skala 0 sampai 1"
      ],
      "metadata": {
        "id": "m4BNOtyLdZ4J"
      }
    },
    {
      "cell_type": "markdown",
      "source": [
        "rumus:\n",
        "\n",
        "![image.png](data:image/png;base64,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)"
      ],
      "metadata": {
        "id": "qDArms8odmoX"
      }
    },
    {
      "cell_type": "markdown",
      "source": [
        "src: https://scikit-learn.org/0.16/modules/generated/sklearn.preprocessing.MinMaxScaler.html"
      ],
      "metadata": {
        "id": "EY044RRkeemf"
      }
    },
    {
      "cell_type": "code",
      "source": [
        "from sklearn.preprocessing import MinMaxScaler\n",
        "data = [\n",
        "    [12_000_000, 33],\n",
        "    [35_000_000, 45],\n",
        "    [4000_000, 23],\n",
        "    [6500_000, 26],\n",
        "    [9000_000, 29]\n",
        "]"
      ],
      "metadata": {
        "id": "pcbdu3f0WWOD"
      },
      "execution_count": 24,
      "outputs": []
    },
    {
      "cell_type": "code",
      "source": [
        "scaler = MinMaxScaler()\n",
        "scaler.fit(data)"
      ],
      "metadata": {
        "colab": {
          "base_uri": "https://localhost:8080/",
          "height": 74
        },
        "id": "ZhlFfaDoWlmR",
        "outputId": "a922df81-f598-4145-d3b2-4b76ef25d33b"
      },
      "execution_count": 25,
      "outputs": [
        {
          "output_type": "execute_result",
          "data": {
            "text/plain": [
              "MinMaxScaler()"
            ],
            "text/html": [
              "<style>#sk-container-id-3 {color: black;background-color: white;}#sk-container-id-3 pre{padding: 0;}#sk-container-id-3 div.sk-toggleable {background-color: white;}#sk-container-id-3 label.sk-toggleable__label {cursor: pointer;display: block;width: 100%;margin-bottom: 0;padding: 0.3em;box-sizing: border-box;text-align: center;}#sk-container-id-3 label.sk-toggleable__label-arrow:before {content: \"▸\";float: left;margin-right: 0.25em;color: #696969;}#sk-container-id-3 label.sk-toggleable__label-arrow:hover:before {color: black;}#sk-container-id-3 div.sk-estimator:hover label.sk-toggleable__label-arrow:before {color: black;}#sk-container-id-3 div.sk-toggleable__content {max-height: 0;max-width: 0;overflow: hidden;text-align: left;background-color: #f0f8ff;}#sk-container-id-3 div.sk-toggleable__content pre {margin: 0.2em;color: black;border-radius: 0.25em;background-color: #f0f8ff;}#sk-container-id-3 input.sk-toggleable__control:checked~div.sk-toggleable__content {max-height: 200px;max-width: 100%;overflow: auto;}#sk-container-id-3 input.sk-toggleable__control:checked~label.sk-toggleable__label-arrow:before {content: \"▾\";}#sk-container-id-3 div.sk-estimator input.sk-toggleable__control:checked~label.sk-toggleable__label {background-color: #d4ebff;}#sk-container-id-3 div.sk-label input.sk-toggleable__control:checked~label.sk-toggleable__label {background-color: #d4ebff;}#sk-container-id-3 input.sk-hidden--visually {border: 0;clip: rect(1px 1px 1px 1px);clip: rect(1px, 1px, 1px, 1px);height: 1px;margin: -1px;overflow: hidden;padding: 0;position: absolute;width: 1px;}#sk-container-id-3 div.sk-estimator {font-family: monospace;background-color: #f0f8ff;border: 1px dotted black;border-radius: 0.25em;box-sizing: border-box;margin-bottom: 0.5em;}#sk-container-id-3 div.sk-estimator:hover {background-color: #d4ebff;}#sk-container-id-3 div.sk-parallel-item::after {content: \"\";width: 100%;border-bottom: 1px solid gray;flex-grow: 1;}#sk-container-id-3 div.sk-label:hover label.sk-toggleable__label {background-color: #d4ebff;}#sk-container-id-3 div.sk-serial::before {content: \"\";position: absolute;border-left: 1px solid gray;box-sizing: border-box;top: 0;bottom: 0;left: 50%;z-index: 0;}#sk-container-id-3 div.sk-serial {display: flex;flex-direction: column;align-items: center;background-color: white;padding-right: 0.2em;padding-left: 0.2em;position: relative;}#sk-container-id-3 div.sk-item {position: relative;z-index: 1;}#sk-container-id-3 div.sk-parallel {display: flex;align-items: stretch;justify-content: center;background-color: white;position: relative;}#sk-container-id-3 div.sk-item::before, #sk-container-id-3 div.sk-parallel-item::before {content: \"\";position: absolute;border-left: 1px solid gray;box-sizing: border-box;top: 0;bottom: 0;left: 50%;z-index: -1;}#sk-container-id-3 div.sk-parallel-item {display: flex;flex-direction: column;z-index: 1;position: relative;background-color: white;}#sk-container-id-3 div.sk-parallel-item:first-child::after {align-self: flex-end;width: 50%;}#sk-container-id-3 div.sk-parallel-item:last-child::after {align-self: flex-start;width: 50%;}#sk-container-id-3 div.sk-parallel-item:only-child::after {width: 0;}#sk-container-id-3 div.sk-dashed-wrapped {border: 1px dashed gray;margin: 0 0.4em 0.5em 0.4em;box-sizing: border-box;padding-bottom: 0.4em;background-color: white;}#sk-container-id-3 div.sk-label label {font-family: monospace;font-weight: bold;display: inline-block;line-height: 1.2em;}#sk-container-id-3 div.sk-label-container {text-align: center;}#sk-container-id-3 div.sk-container {/* jupyter's `normalize.less` sets `[hidden] { display: none; }` but bootstrap.min.css set `[hidden] { display: none !important; }` so we also need the `!important` here to be able to override the default hidden behavior on the sphinx rendered scikit-learn.org. See: https://github.com/scikit-learn/scikit-learn/issues/21755 */display: inline-block !important;position: relative;}#sk-container-id-3 div.sk-text-repr-fallback {display: none;}</style><div id=\"sk-container-id-3\" class=\"sk-top-container\"><div class=\"sk-text-repr-fallback\"><pre>MinMaxScaler()</pre><b>In a Jupyter environment, please rerun this cell to show the HTML representation or trust the notebook. <br />On GitHub, the HTML representation is unable to render, please try loading this page with nbviewer.org.</b></div><div class=\"sk-container\" hidden><div class=\"sk-item\"><div class=\"sk-estimator sk-toggleable\"><input class=\"sk-toggleable__control sk-hidden--visually\" id=\"sk-estimator-id-3\" type=\"checkbox\" checked><label for=\"sk-estimator-id-3\" class=\"sk-toggleable__label sk-toggleable__label-arrow\">MinMaxScaler</label><div class=\"sk-toggleable__content\"><pre>MinMaxScaler()</pre></div></div></div></div></div>"
            ]
          },
          "metadata": {},
          "execution_count": 25
        }
      ]
    },
    {
      "cell_type": "code",
      "source": [
        "print(scaler.transform(data))\n"
      ],
      "metadata": {
        "colab": {
          "base_uri": "https://localhost:8080/"
        },
        "id": "p96fLOV2XD2D",
        "outputId": "ded32587-2c52-483f-febb-9253a00f95f8"
      },
      "execution_count": 26,
      "outputs": [
        {
          "output_type": "stream",
          "name": "stdout",
          "text": [
            "[[0.25806452 0.45454545]\n",
            " [1.         1.        ]\n",
            " [0.         0.        ]\n",
            " [0.08064516 0.13636364]\n",
            " [0.16129032 0.27272727]]\n"
          ]
        }
      ]
    },
    {
      "cell_type": "markdown",
      "source": [
        "### Standardization"
      ],
      "metadata": {
        "id": "KQoOtaacd9Nl"
      }
    },
    {
      "cell_type": "markdown",
      "source": [
        "Standardization adalah proses konversi nilai-nilai dari suatu fitur sehingga nilai-nilai tersebut memiliki skala yang sama"
      ],
      "metadata": {
        "id": "WxzRNALBeKUz"
      }
    },
    {
      "cell_type": "markdown",
      "source": [
        "rumus:\n",
        "\n",
        "![image.png](data:image/png;base64,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)"
      ],
      "metadata": {
        "id": "FL0UvFdIeS_b"
      }
    },
    {
      "cell_type": "markdown",
      "source": [
        "src: https://scikit-learn.org/stable/modules/generated/sklearn.preprocessing.StandardScaler.html"
      ],
      "metadata": {
        "id": "ylWcW9nhegVh"
      }
    },
    {
      "cell_type": "code",
      "source": [
        "from sklearn.preprocessing import MinMaxScaler\n",
        "from sklearn import preprocessing\n",
        "\n",
        "data = [\n",
        "    [12_000_000, 33],\n",
        "    [35_000_000, 45],\n",
        "    [4000_000, 23],\n",
        "    [6500_000, 26],\n",
        "    [9000_000, 29]\n",
        "]"
      ],
      "metadata": {
        "id": "NAkk2IoUcU6j"
      },
      "execution_count": 27,
      "outputs": []
    },
    {
      "cell_type": "code",
      "source": [
        "scaler = preprocessing.StandardScaler().fit(data)"
      ],
      "metadata": {
        "id": "46as2kG_ce-I"
      },
      "execution_count": 28,
      "outputs": []
    },
    {
      "cell_type": "code",
      "source": [
        "data = scaler.transform(data)\n",
        "data"
      ],
      "metadata": {
        "colab": {
          "base_uri": "https://localhost:8080/"
        },
        "id": "V5t3XjVccinq",
        "outputId": "c7a02a1f-e69e-42f3-bbdf-0ac34924c57c"
      },
      "execution_count": 30,
      "outputs": [
        {
          "output_type": "execute_result",
          "data": {
            "text/plain": [
              "array([[-0.11638732,  0.23521877],\n",
              "       [ 1.94277296,  1.80334389],\n",
              "       [-0.83261698, -1.07155217],\n",
              "       [-0.60879521, -0.67952089],\n",
              "       [-0.38497344, -0.28748961]])"
            ]
          },
          "metadata": {},
          "execution_count": 30
        }
      ]
    },
    {
      "cell_type": "code",
      "source": [
        "import numpy as np"
      ],
      "metadata": {
        "id": "U4ekljaDh7pK"
      },
      "execution_count": 31,
      "outputs": []
    },
    {
      "cell_type": "code",
      "source": [
        "X, y = np.arange(10).reshape((5, 2)), range(5)"
      ],
      "metadata": {
        "id": "yR8-Sh_Xh9cz"
      },
      "execution_count": 32,
      "outputs": []
    },
    {
      "cell_type": "code",
      "source": [
        "X"
      ],
      "metadata": {
        "colab": {
          "base_uri": "https://localhost:8080/"
        },
        "id": "H2u5Vcxwh-VP",
        "outputId": "f9fca7dd-5983-4a7e-d1ed-b189d16641c5"
      },
      "execution_count": 33,
      "outputs": [
        {
          "output_type": "execute_result",
          "data": {
            "text/plain": [
              "array([[0, 1],\n",
              "       [2, 3],\n",
              "       [4, 5],\n",
              "       [6, 7],\n",
              "       [8, 9]])"
            ]
          },
          "metadata": {},
          "execution_count": 33
        }
      ]
    },
    {
      "cell_type": "code",
      "source": [
        "list(y)"
      ],
      "metadata": {
        "colab": {
          "base_uri": "https://localhost:8080/"
        },
        "id": "gBjERcEbh-tH",
        "outputId": "152e56fe-c6bd-4c20-a59d-d0d931323887"
      },
      "execution_count": 34,
      "outputs": [
        {
          "output_type": "execute_result",
          "data": {
            "text/plain": [
              "[0, 1, 2, 3, 4]"
            ]
          },
          "metadata": {},
          "execution_count": 34
        }
      ]
    },
    {
      "cell_type": "markdown",
      "source": [
        "## Training Set dan Test Set\n"
      ],
      "metadata": {
        "id": "3JatJwopm6QM"
      }
    },
    {
      "cell_type": "code",
      "source": [
        "from sklearn.model_selection import train_test_split"
      ],
      "metadata": {
        "id": "4uzdSjd1iilG"
      },
      "execution_count": 35,
      "outputs": []
    },
    {
      "cell_type": "markdown",
      "source": [
        "random_state bertujuan untuk dapat memastikan bahwa hasil pembagian dataset konsisten dan memberikan data yang sama setiap kali model dijalankan\n",
        "\n",
        "random_state yang umum digunakan 0,1,42"
      ],
      "metadata": {
        "id": "WMHMDA9anMeo"
      }
    },
    {
      "cell_type": "code",
      "source": [
        "#train 67% test 33%\n",
        "X_train, X_test, y_train, y_test = train_test_split(X, y, test_size=0.33, random_state=1)"
      ],
      "metadata": {
        "id": "Db6J34Ewicfq"
      },
      "execution_count": 36,
      "outputs": []
    },
    {
      "cell_type": "code",
      "source": [
        "X_train\n"
      ],
      "metadata": {
        "colab": {
          "base_uri": "https://localhost:8080/"
        },
        "id": "QhHUUZ7zikVI",
        "outputId": "6eae6920-a061-41f4-fb9b-4d209b68ef83"
      },
      "execution_count": 37,
      "outputs": [
        {
          "output_type": "execute_result",
          "data": {
            "text/plain": [
              "array([[8, 9],\n",
              "       [0, 1],\n",
              "       [6, 7]])"
            ]
          },
          "metadata": {},
          "execution_count": 37
        }
      ]
    },
    {
      "cell_type": "code",
      "source": [
        "X_test"
      ],
      "metadata": {
        "colab": {
          "base_uri": "https://localhost:8080/"
        },
        "id": "gXTGFretjG3l",
        "outputId": "8388ae6a-c263-4520-af52-6784c409e5c5"
      },
      "execution_count": 38,
      "outputs": [
        {
          "output_type": "execute_result",
          "data": {
            "text/plain": [
              "array([[4, 5],\n",
              "       [2, 3]])"
            ]
          },
          "metadata": {},
          "execution_count": 38
        }
      ]
    },
    {
      "cell_type": "code",
      "source": [
        "y_train"
      ],
      "metadata": {
        "colab": {
          "base_uri": "https://localhost:8080/"
        },
        "id": "Kn7G1ZUdjLwl",
        "outputId": "ea03077d-004a-4a85-eb70-2bd8601fd68b"
      },
      "execution_count": 39,
      "outputs": [
        {
          "output_type": "execute_result",
          "data": {
            "text/plain": [
              "[4, 0, 3]"
            ]
          },
          "metadata": {},
          "execution_count": 39
        }
      ]
    },
    {
      "cell_type": "code",
      "source": [
        "y_test"
      ],
      "metadata": {
        "colab": {
          "base_uri": "https://localhost:8080/"
        },
        "id": "iy8akAnHjN2J",
        "outputId": "a6519f58-6d22-4e75-be7d-6a257b7bb0fd"
      },
      "execution_count": 40,
      "outputs": [
        {
          "output_type": "execute_result",
          "data": {
            "text/plain": [
              "[2, 1]"
            ]
          },
          "metadata": {},
          "execution_count": 40
        }
      ]
    }
  ]
}